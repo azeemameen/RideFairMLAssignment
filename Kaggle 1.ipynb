{
 "cells": [
  {
   "cell_type": "code",
   "execution_count": 2,
   "metadata": {},
   "outputs": [],
   "source": [
    "import pandas as pd\n",
    "import seaborn as sns\n",
    "from sklearn.svm import SVC\n",
    "import matplotlib.pyplot as plt\n",
    "from sklearn.ensemble import RandomForestClassifier\n",
    "from sklearn import svm\n",
    "from sklearn.metrics import confusion_matrix, classification_report, accuracy_score\n",
    "from sklearn.preprocessing import LabelEncoder\n",
    "from sklearn.model_selection import train_test_split\n",
    "from sklearn.linear_model import LogisticRegression\n",
    "%matplotlib inline\n",
    "\n"
   ]
  },
  {
   "cell_type": "code",
   "execution_count": 10,
   "metadata": {},
   "outputs": [
    {
     "data": {
      "text/html": [
       "<div>\n",
       "<style scoped>\n",
       "    .dataframe tbody tr th:only-of-type {\n",
       "        vertical-align: middle;\n",
       "    }\n",
       "\n",
       "    .dataframe tbody tr th {\n",
       "        vertical-align: top;\n",
       "    }\n",
       "\n",
       "    .dataframe thead th {\n",
       "        text-align: right;\n",
       "    }\n",
       "</style>\n",
       "<table border=\"1\" class=\"dataframe\">\n",
       "  <thead>\n",
       "    <tr style=\"text-align: right;\">\n",
       "      <th></th>\n",
       "      <th>tripid</th>\n",
       "      <th>additional_fare</th>\n",
       "      <th>duration</th>\n",
       "      <th>meter_waiting</th>\n",
       "      <th>meter_waiting_fare</th>\n",
       "      <th>meter_waiting_till_pickup</th>\n",
       "      <th>pickup_time</th>\n",
       "      <th>drop_time</th>\n",
       "      <th>pick_lat</th>\n",
       "      <th>pick_lon</th>\n",
       "      <th>drop_lat</th>\n",
       "      <th>drop_lon</th>\n",
       "      <th>fare</th>\n",
       "      <th>label</th>\n",
       "    </tr>\n",
       "  </thead>\n",
       "  <tbody>\n",
       "    <tr>\n",
       "      <th>0</th>\n",
       "      <td>189123628</td>\n",
       "      <td>10.5</td>\n",
       "      <td>834.0</td>\n",
       "      <td>56.0</td>\n",
       "      <td>0.0000</td>\n",
       "      <td>64.0</td>\n",
       "      <td>11/1/2019 0:20</td>\n",
       "      <td>11/1/2019 0:34</td>\n",
       "      <td>6.86252</td>\n",
       "      <td>79.8993</td>\n",
       "      <td>6.90330</td>\n",
       "      <td>79.8783</td>\n",
       "      <td>270.32</td>\n",
       "      <td>correct</td>\n",
       "    </tr>\n",
       "    <tr>\n",
       "      <th>1</th>\n",
       "      <td>189125358</td>\n",
       "      <td>10.5</td>\n",
       "      <td>791.0</td>\n",
       "      <td>47.0</td>\n",
       "      <td>0.0000</td>\n",
       "      <td>134.0</td>\n",
       "      <td>11/1/2019 0:56</td>\n",
       "      <td>11/1/2019 1:09</td>\n",
       "      <td>6.88589</td>\n",
       "      <td>79.8984</td>\n",
       "      <td>6.91373</td>\n",
       "      <td>79.8923</td>\n",
       "      <td>197.85</td>\n",
       "      <td>correct</td>\n",
       "    </tr>\n",
       "    <tr>\n",
       "      <th>2</th>\n",
       "      <td>189125719</td>\n",
       "      <td>10.5</td>\n",
       "      <td>1087.0</td>\n",
       "      <td>80.0</td>\n",
       "      <td>0.0000</td>\n",
       "      <td>61.0</td>\n",
       "      <td>11/1/2019 1:08</td>\n",
       "      <td>11/1/2019 1:26</td>\n",
       "      <td>6.90839</td>\n",
       "      <td>79.8651</td>\n",
       "      <td>6.93669</td>\n",
       "      <td>79.9146</td>\n",
       "      <td>301.64</td>\n",
       "      <td>correct</td>\n",
       "    </tr>\n",
       "    <tr>\n",
       "      <th>3</th>\n",
       "      <td>189127273</td>\n",
       "      <td>10.5</td>\n",
       "      <td>598.0</td>\n",
       "      <td>271.0</td>\n",
       "      <td>15.6638</td>\n",
       "      <td>68.0</td>\n",
       "      <td>11/1/2019 2:27</td>\n",
       "      <td>11/1/2019 2:37</td>\n",
       "      <td>6.92570</td>\n",
       "      <td>79.8895</td>\n",
       "      <td>6.92748</td>\n",
       "      <td>79.8971</td>\n",
       "      <td>82.30</td>\n",
       "      <td>correct</td>\n",
       "    </tr>\n",
       "    <tr>\n",
       "      <th>4</th>\n",
       "      <td>189128020</td>\n",
       "      <td>NaN</td>\n",
       "      <td>NaN</td>\n",
       "      <td>NaN</td>\n",
       "      <td>NaN</td>\n",
       "      <td>NaN</td>\n",
       "      <td>11/1/2019 3:34</td>\n",
       "      <td>11/1/2019 3:51</td>\n",
       "      <td>6.87441</td>\n",
       "      <td>79.8615</td>\n",
       "      <td>6.84478</td>\n",
       "      <td>79.9290</td>\n",
       "      <td>358.39</td>\n",
       "      <td>correct</td>\n",
       "    </tr>\n",
       "  </tbody>\n",
       "</table>\n",
       "</div>"
      ],
      "text/plain": [
       "      tripid  additional_fare  duration  meter_waiting  meter_waiting_fare  \\\n",
       "0  189123628             10.5     834.0           56.0              0.0000   \n",
       "1  189125358             10.5     791.0           47.0              0.0000   \n",
       "2  189125719             10.5    1087.0           80.0              0.0000   \n",
       "3  189127273             10.5     598.0          271.0             15.6638   \n",
       "4  189128020              NaN       NaN            NaN                 NaN   \n",
       "\n",
       "   meter_waiting_till_pickup     pickup_time       drop_time  pick_lat  \\\n",
       "0                       64.0  11/1/2019 0:20  11/1/2019 0:34   6.86252   \n",
       "1                      134.0  11/1/2019 0:56  11/1/2019 1:09   6.88589   \n",
       "2                       61.0  11/1/2019 1:08  11/1/2019 1:26   6.90839   \n",
       "3                       68.0  11/1/2019 2:27  11/1/2019 2:37   6.92570   \n",
       "4                        NaN  11/1/2019 3:34  11/1/2019 3:51   6.87441   \n",
       "\n",
       "   pick_lon  drop_lat  drop_lon    fare    label  \n",
       "0   79.8993   6.90330   79.8783  270.32  correct  \n",
       "1   79.8984   6.91373   79.8923  197.85  correct  \n",
       "2   79.8651   6.93669   79.9146  301.64  correct  \n",
       "3   79.8895   6.92748   79.8971   82.30  correct  \n",
       "4   79.8615   6.84478   79.9290  358.39  correct  "
      ]
     },
     "execution_count": 10,
     "metadata": {},
     "output_type": "execute_result"
    }
   ],
   "source": [
    "#Importing the datasets\n",
    "\n",
    "test_df=pd.read_csv('test.csv')\n",
    "train_df=pd.read_csv('train.csv')\n",
    "train_df.head()\n",
    "\n"
   ]
  },
  {
   "cell_type": "code",
   "execution_count": null,
   "metadata": {},
   "outputs": [],
   "source": [
    "#removing null values\n",
    "train_df=train_df.dropna()\n",
    "\n",
    "train_df['label']=train_df['label'].apply(lambda x: 1 if x=='correct' else 0)\n",
    "\n",
    "train_df.head()"
   ]
  },
  {
   "cell_type": "code",
   "execution_count": 5,
   "metadata": {},
   "outputs": [
    {
     "data": {
      "text/plain": [
       "correct      15495\n",
       "incorrect     1681\n",
       "Name: label, dtype: int64"
      ]
     },
     "execution_count": 5,
     "metadata": {},
     "output_type": "execute_result"
    }
   ],
   "source": [
    "train_df.label.value_counts()"
   ]
  },
  {
   "cell_type": "code",
   "execution_count": 8,
   "metadata": {},
   "outputs": [
    {
     "data": {
      "text/html": [
       "<div>\n",
       "<style scoped>\n",
       "    .dataframe tbody tr th:only-of-type {\n",
       "        vertical-align: middle;\n",
       "    }\n",
       "\n",
       "    .dataframe tbody tr th {\n",
       "        vertical-align: top;\n",
       "    }\n",
       "\n",
       "    .dataframe thead th {\n",
       "        text-align: right;\n",
       "    }\n",
       "</style>\n",
       "<table border=\"1\" class=\"dataframe\">\n",
       "  <thead>\n",
       "    <tr style=\"text-align: right;\">\n",
       "      <th></th>\n",
       "      <th>tripid</th>\n",
       "      <th>additional_fare</th>\n",
       "      <th>duration</th>\n",
       "      <th>meter_waiting</th>\n",
       "      <th>meter_waiting_fare</th>\n",
       "      <th>meter_waiting_till_pickup</th>\n",
       "      <th>pick_lat</th>\n",
       "      <th>pick_lon</th>\n",
       "      <th>drop_lat</th>\n",
       "      <th>drop_lon</th>\n",
       "      <th>fare</th>\n",
       "    </tr>\n",
       "  </thead>\n",
       "  <tbody>\n",
       "    <tr>\n",
       "      <th>tripid</th>\n",
       "      <td>1.000000</td>\n",
       "      <td>0.091271</td>\n",
       "      <td>0.000006</td>\n",
       "      <td>-0.012994</td>\n",
       "      <td>-0.033267</td>\n",
       "      <td>-0.010433</td>\n",
       "      <td>0.021763</td>\n",
       "      <td>0.011027</td>\n",
       "      <td>0.020646</td>\n",
       "      <td>0.017540</td>\n",
       "      <td>0.000403</td>\n",
       "    </tr>\n",
       "    <tr>\n",
       "      <th>additional_fare</th>\n",
       "      <td>0.091271</td>\n",
       "      <td>1.000000</td>\n",
       "      <td>0.140231</td>\n",
       "      <td>0.104423</td>\n",
       "      <td>-0.031867</td>\n",
       "      <td>0.247940</td>\n",
       "      <td>0.022876</td>\n",
       "      <td>-0.021565</td>\n",
       "      <td>0.015503</td>\n",
       "      <td>0.006054</td>\n",
       "      <td>0.159307</td>\n",
       "    </tr>\n",
       "    <tr>\n",
       "      <th>duration</th>\n",
       "      <td>0.000006</td>\n",
       "      <td>0.140231</td>\n",
       "      <td>1.000000</td>\n",
       "      <td>0.557625</td>\n",
       "      <td>0.350132</td>\n",
       "      <td>0.105667</td>\n",
       "      <td>-0.040832</td>\n",
       "      <td>-0.044360</td>\n",
       "      <td>-0.037893</td>\n",
       "      <td>-0.034652</td>\n",
       "      <td>0.695294</td>\n",
       "    </tr>\n",
       "    <tr>\n",
       "      <th>meter_waiting</th>\n",
       "      <td>-0.012994</td>\n",
       "      <td>0.104423</td>\n",
       "      <td>0.557625</td>\n",
       "      <td>1.000000</td>\n",
       "      <td>0.566302</td>\n",
       "      <td>0.070176</td>\n",
       "      <td>-0.035998</td>\n",
       "      <td>-0.069882</td>\n",
       "      <td>-0.035437</td>\n",
       "      <td>-0.060654</td>\n",
       "      <td>0.379422</td>\n",
       "    </tr>\n",
       "    <tr>\n",
       "      <th>meter_waiting_fare</th>\n",
       "      <td>-0.033267</td>\n",
       "      <td>-0.031867</td>\n",
       "      <td>0.350132</td>\n",
       "      <td>0.566302</td>\n",
       "      <td>1.000000</td>\n",
       "      <td>-0.012404</td>\n",
       "      <td>0.009489</td>\n",
       "      <td>-0.010523</td>\n",
       "      <td>0.003791</td>\n",
       "      <td>0.006472</td>\n",
       "      <td>0.191158</td>\n",
       "    </tr>\n",
       "    <tr>\n",
       "      <th>meter_waiting_till_pickup</th>\n",
       "      <td>-0.010433</td>\n",
       "      <td>0.247940</td>\n",
       "      <td>0.105667</td>\n",
       "      <td>0.070176</td>\n",
       "      <td>-0.012404</td>\n",
       "      <td>1.000000</td>\n",
       "      <td>0.067593</td>\n",
       "      <td>0.065031</td>\n",
       "      <td>0.067785</td>\n",
       "      <td>0.057069</td>\n",
       "      <td>0.098491</td>\n",
       "    </tr>\n",
       "    <tr>\n",
       "      <th>pick_lat</th>\n",
       "      <td>0.021763</td>\n",
       "      <td>0.022876</td>\n",
       "      <td>-0.040832</td>\n",
       "      <td>-0.035998</td>\n",
       "      <td>0.009489</td>\n",
       "      <td>0.067593</td>\n",
       "      <td>1.000000</td>\n",
       "      <td>0.100728</td>\n",
       "      <td>0.742891</td>\n",
       "      <td>0.132883</td>\n",
       "      <td>-0.009914</td>\n",
       "    </tr>\n",
       "    <tr>\n",
       "      <th>pick_lon</th>\n",
       "      <td>0.011027</td>\n",
       "      <td>-0.021565</td>\n",
       "      <td>-0.044360</td>\n",
       "      <td>-0.069882</td>\n",
       "      <td>-0.010523</td>\n",
       "      <td>0.065031</td>\n",
       "      <td>0.100728</td>\n",
       "      <td>1.000000</td>\n",
       "      <td>0.129942</td>\n",
       "      <td>0.604123</td>\n",
       "      <td>-0.004363</td>\n",
       "    </tr>\n",
       "    <tr>\n",
       "      <th>drop_lat</th>\n",
       "      <td>0.020646</td>\n",
       "      <td>0.015503</td>\n",
       "      <td>-0.037893</td>\n",
       "      <td>-0.035437</td>\n",
       "      <td>0.003791</td>\n",
       "      <td>0.067785</td>\n",
       "      <td>0.742891</td>\n",
       "      <td>0.129942</td>\n",
       "      <td>1.000000</td>\n",
       "      <td>0.101820</td>\n",
       "      <td>-0.007067</td>\n",
       "    </tr>\n",
       "    <tr>\n",
       "      <th>drop_lon</th>\n",
       "      <td>0.017540</td>\n",
       "      <td>0.006054</td>\n",
       "      <td>-0.034652</td>\n",
       "      <td>-0.060654</td>\n",
       "      <td>0.006472</td>\n",
       "      <td>0.057069</td>\n",
       "      <td>0.132883</td>\n",
       "      <td>0.604123</td>\n",
       "      <td>0.101820</td>\n",
       "      <td>1.000000</td>\n",
       "      <td>0.007311</td>\n",
       "    </tr>\n",
       "    <tr>\n",
       "      <th>fare</th>\n",
       "      <td>0.000403</td>\n",
       "      <td>0.159307</td>\n",
       "      <td>0.695294</td>\n",
       "      <td>0.379422</td>\n",
       "      <td>0.191158</td>\n",
       "      <td>0.098491</td>\n",
       "      <td>-0.009914</td>\n",
       "      <td>-0.004363</td>\n",
       "      <td>-0.007067</td>\n",
       "      <td>0.007311</td>\n",
       "      <td>1.000000</td>\n",
       "    </tr>\n",
       "  </tbody>\n",
       "</table>\n",
       "</div>"
      ],
      "text/plain": [
       "                             tripid  additional_fare  duration  meter_waiting  \\\n",
       "tripid                     1.000000         0.091271  0.000006      -0.012994   \n",
       "additional_fare            0.091271         1.000000  0.140231       0.104423   \n",
       "duration                   0.000006         0.140231  1.000000       0.557625   \n",
       "meter_waiting             -0.012994         0.104423  0.557625       1.000000   \n",
       "meter_waiting_fare        -0.033267        -0.031867  0.350132       0.566302   \n",
       "meter_waiting_till_pickup -0.010433         0.247940  0.105667       0.070176   \n",
       "pick_lat                   0.021763         0.022876 -0.040832      -0.035998   \n",
       "pick_lon                   0.011027        -0.021565 -0.044360      -0.069882   \n",
       "drop_lat                   0.020646         0.015503 -0.037893      -0.035437   \n",
       "drop_lon                   0.017540         0.006054 -0.034652      -0.060654   \n",
       "fare                       0.000403         0.159307  0.695294       0.379422   \n",
       "\n",
       "                           meter_waiting_fare  meter_waiting_till_pickup  \\\n",
       "tripid                              -0.033267                  -0.010433   \n",
       "additional_fare                     -0.031867                   0.247940   \n",
       "duration                             0.350132                   0.105667   \n",
       "meter_waiting                        0.566302                   0.070176   \n",
       "meter_waiting_fare                   1.000000                  -0.012404   \n",
       "meter_waiting_till_pickup           -0.012404                   1.000000   \n",
       "pick_lat                             0.009489                   0.067593   \n",
       "pick_lon                            -0.010523                   0.065031   \n",
       "drop_lat                             0.003791                   0.067785   \n",
       "drop_lon                             0.006472                   0.057069   \n",
       "fare                                 0.191158                   0.098491   \n",
       "\n",
       "                           pick_lat  pick_lon  drop_lat  drop_lon      fare  \n",
       "tripid                     0.021763  0.011027  0.020646  0.017540  0.000403  \n",
       "additional_fare            0.022876 -0.021565  0.015503  0.006054  0.159307  \n",
       "duration                  -0.040832 -0.044360 -0.037893 -0.034652  0.695294  \n",
       "meter_waiting             -0.035998 -0.069882 -0.035437 -0.060654  0.379422  \n",
       "meter_waiting_fare         0.009489 -0.010523  0.003791  0.006472  0.191158  \n",
       "meter_waiting_till_pickup  0.067593  0.065031  0.067785  0.057069  0.098491  \n",
       "pick_lat                   1.000000  0.100728  0.742891  0.132883 -0.009914  \n",
       "pick_lon                   0.100728  1.000000  0.129942  0.604123 -0.004363  \n",
       "drop_lat                   0.742891  0.129942  1.000000  0.101820 -0.007067  \n",
       "drop_lon                   0.132883  0.604123  0.101820  1.000000  0.007311  \n",
       "fare                      -0.009914 -0.004363 -0.007067  0.007311  1.000000  "
      ]
     },
     "execution_count": 8,
     "metadata": {},
     "output_type": "execute_result"
    }
   ],
   "source": [
    "#Checking for Correlation\n",
    "train_df.corr(method ='kendall')"
   ]
  },
  {
   "cell_type": "code",
   "execution_count": 8,
   "metadata": {},
   "outputs": [],
   "source": [
    "#setting up x and y data\n",
    "\n",
    "x=train_df.drop(['label','pickup_time','drop_time'],axis=1)\n",
    "\n",
    "y=train_df['label']\n"
   ]
  },
  {
   "cell_type": "code",
   "execution_count": null,
   "metadata": {},
   "outputs": [],
   "source": [
    "#Splitting data into Test and Train\n",
    "x_train,x_test,y_train,y_test=train_test_split(x,y,test_size=0.3,random_state=42)"
   ]
  },
  {
   "cell_type": "markdown",
   "metadata": {},
   "source": [
    "# Modeling Random Forest Algorithm"
   ]
  },
  {
   "cell_type": "code",
   "execution_count": 89,
   "metadata": {},
   "outputs": [],
   "source": [
    "#RandomForest\n",
    "\n",
    "rfc=RandomForestClassifier(n_estimators=200)\n",
    "rfc.fit(x_train,y_train)\n",
    "pred_rfc=rfc.predict(x_test)"
   ]
  },
  {
   "cell_type": "code",
   "execution_count": 90,
   "metadata": {},
   "outputs": [
    {
     "name": "stdout",
     "output_type": "stream",
     "text": [
      "              precision    recall  f1-score   support\n",
      "\n",
      "           0       0.83      0.42      0.56       457\n",
      "           1       0.95      0.99      0.97      4634\n",
      "\n",
      "    accuracy                           0.94      5091\n",
      "   macro avg       0.89      0.71      0.76      5091\n",
      "weighted avg       0.94      0.94      0.93      5091\n",
      "\n",
      "[[ 194  263]\n",
      " [  40 4594]]\n",
      "0.9404832056570418\n"
     ]
    }
   ],
   "source": [
    "print(classification_report(y_test,pred_rfc))\n",
    "print(confusion_matrix(y_test,pred_rfc))\n",
    "print(accuracy_score(y_test,pred_rfc))"
   ]
  },
  {
   "cell_type": "code",
   "execution_count": 33,
   "metadata": {},
   "outputs": [],
   "source": [
    "#For the main test data\n",
    "main_test=test_df.drop(['pickup_time','drop_time'],axis=1)"
   ]
  },
  {
   "cell_type": "code",
   "execution_count": 92,
   "metadata": {},
   "outputs": [],
   "source": [
    "main_Y=rfc.predict(main_test)\n",
    "\n",
    "test_df['prediction']=main_Y\n",
    "\n",
    "Output=test_df[['tripid','prediction']]\n",
    "\n",
    "Output\n",
    "\n",
    "Output.prediction.value_counts()\n",
    "\n",
    "Output.to_csv(r'C:\\Users\\AzeemA\\Desktop\\Azeem\\MSc\\Machine Learning\\Kaggle Assignment\\Outputs\\RF.csv', index = False)"
   ]
  },
  {
   "cell_type": "code",
   "execution_count": 101,
   "metadata": {},
   "outputs": [],
   "source": [
    "#RandomForest for fulldataset (Not using the train test split)\n",
    "\n",
    "rfc=RandomForestClassifier(n_estimators=200)\n",
    "rfc.fit(x,y)\n",
    "main_Y=rfc.predict(main_test)"
   ]
  },
  {
   "cell_type": "code",
   "execution_count": 102,
   "metadata": {},
   "outputs": [],
   "source": [
    "test_df['prediction']=main_Y\n",
    "\n",
    "Output=test_df[['tripid','prediction']]\n",
    "\n",
    "Output\n",
    "\n",
    "Output.prediction.value_counts()\n",
    "\n",
    "Output.to_csv(r'C:\\Users\\AzeemA\\Desktop\\Azeem\\MSc\\Machine Learning\\Kaggle Assignment\\Outputs\\RFFull.csv', index = False)"
   ]
  },
  {
   "cell_type": "code",
   "execution_count": 103,
   "metadata": {},
   "outputs": [],
   "source": []
  },
  {
   "cell_type": "markdown",
   "metadata": {},
   "source": [
    "# Modeling SVM"
   ]
  },
  {
   "cell_type": "code",
   "execution_count": 12,
   "metadata": {},
   "outputs": [],
   "source": [
    "test_df=pd.read_csv(r'C:\\Users\\AzeemA\\Desktop\\Azeem\\MSc\\Machine Learning\\Kaggle Assignment\\test.csv')\n",
    "train_df=pd.read_csv(r'C:\\Users\\AzeemA\\Desktop\\Azeem\\MSc\\Machine Learning\\Kaggle Assignment\\train.csv')\n",
    "\n",
    "train_df.label.value_counts()\n",
    "\n",
    "#removing null values\n",
    "train_df=train_df.dropna()\n",
    "\n",
    "train_df['label']=train_df['label'].apply(lambda x: 1 if x=='correct' else 0)\n",
    "\n",
    "train_df.head()\n",
    "\n",
    "\n",
    "x=train_df.drop(['label','pickup_time','drop_time'],axis=1)\n",
    "\n",
    "y=train_df['label']\n",
    "\n",
    "x_train,x_test,y_train,y_test=train_test_split(x,y,test_size=0.3,random_state=42)"
   ]
  },
  {
   "cell_type": "code",
   "execution_count": 13,
   "metadata": {},
   "outputs": [],
   "source": [
    "#Using SVM to train test split\n",
    "clf=svm.SVC()\n",
    "clf.fit(x_train,y_train)\n",
    "pred_clf=clf.predict(x_test)"
   ]
  },
  {
   "cell_type": "code",
   "execution_count": 14,
   "metadata": {
    "scrolled": true
   },
   "outputs": [
    {
     "name": "stdout",
     "output_type": "stream",
     "text": [
      "              precision    recall  f1-score   support\n",
      "\n",
      "           0       0.00      0.00      0.00       457\n",
      "           1       0.91      1.00      0.95      4634\n",
      "\n",
      "    accuracy                           0.91      5091\n",
      "   macro avg       0.46      0.50      0.48      5091\n",
      "weighted avg       0.83      0.91      0.87      5091\n",
      "\n",
      "[[   0  457]\n",
      " [   0 4634]]\n",
      "0.9102337458259674\n"
     ]
    },
    {
     "name": "stderr",
     "output_type": "stream",
     "text": [
      "C:\\Users\\AzeemA\\Anaconda3\\lib\\site-packages\\sklearn\\metrics\\_classification.py:1221: UndefinedMetricWarning: Precision and F-score are ill-defined and being set to 0.0 in labels with no predicted samples. Use `zero_division` parameter to control this behavior.\n",
      "  _warn_prf(average, modifier, msg_start, len(result))\n"
     ]
    }
   ],
   "source": [
    "print(classification_report(y_test,pred_clf))\n",
    "print(confusion_matrix(y_test,pred_clf))\n",
    "print(accuracy_score(y_test,pred_clf))"
   ]
  },
  {
   "cell_type": "markdown",
   "metadata": {},
   "source": [
    "# Decision Tree"
   ]
  },
  {
   "cell_type": "code",
   "execution_count": 37,
   "metadata": {},
   "outputs": [],
   "source": [
    "from sklearn.tree import DecisionTreeClassifier\n",
    "clf = DecisionTreeClassifier(random_state=0)"
   ]
  },
  {
   "cell_type": "code",
   "execution_count": 112,
   "metadata": {},
   "outputs": [],
   "source": [
    "clf = DecisionTreeClassifier(random_state=0)\n",
    "clf.fit(x_train,y_train)\n",
    "pred_clf=clf.predict(x_test)"
   ]
  },
  {
   "cell_type": "code",
   "execution_count": 113,
   "metadata": {},
   "outputs": [
    {
     "name": "stdout",
     "output_type": "stream",
     "text": [
      "              precision    recall  f1-score   support\n",
      "\n",
      "           0       0.50      0.54      0.52       457\n",
      "           1       0.95      0.95      0.95      4634\n",
      "\n",
      "    accuracy                           0.91      5091\n",
      "   macro avg       0.73      0.74      0.73      5091\n",
      "weighted avg       0.91      0.91      0.91      5091\n",
      "\n",
      "[[ 245  212]\n",
      " [ 244 4390]]\n",
      "0.9104301708898055\n"
     ]
    }
   ],
   "source": [
    "print(classification_report(y_test,pred_clf))\n",
    "print(confusion_matrix(y_test,pred_clf))\n",
    "print(accuracy_score(y_test,pred_clf))"
   ]
  },
  {
   "cell_type": "code",
   "execution_count": 114,
   "metadata": {},
   "outputs": [],
   "source": [
    "#For the main test data\n",
    "main_test=test_df.drop(['pickup_time','drop_time'],axis=1)"
   ]
  },
  {
   "cell_type": "code",
   "execution_count": 115,
   "metadata": {},
   "outputs": [],
   "source": [
    "main_Y=clf.predict(main_test)\n",
    "\n",
    "test_df['prediction']=main_Y\n",
    "\n",
    "Output=test_df[['tripid','prediction']]\n",
    "\n",
    "Output\n",
    "\n",
    "Output.prediction.value_counts()\n",
    "\n",
    "Output.to_csv(r'C:\\Users\\AzeemA\\Desktop\\Azeem\\MSc\\Machine Learning\\Kaggle Assignment\\Outputs\\DST.csv', index = False)"
   ]
  },
  {
   "cell_type": "code",
   "execution_count": 116,
   "metadata": {},
   "outputs": [],
   "source": [
    "#Decision Tree for fulldataset (Not using the train test split)\n",
    "\n",
    "clf = DecisionTreeClassifier(random_state=0)\n",
    "clf.fit(x,y)\n",
    "main_Y=rfc.predict(main_test)"
   ]
  },
  {
   "cell_type": "code",
   "execution_count": 118,
   "metadata": {},
   "outputs": [],
   "source": [
    "test_df['prediction']=main_Y\n",
    "\n",
    "Output=test_df[['tripid','prediction']]\n",
    "\n",
    "Output.to_csv(r'C:\\Users\\AzeemA\\Desktop\\Azeem\\MSc\\Machine Learning\\Kaggle Assignment\\Outputs\\DSTFull.csv', index = False)"
   ]
  },
  {
   "cell_type": "markdown",
   "metadata": {},
   "source": [
    "# Logistic Regression"
   ]
  },
  {
   "cell_type": "code",
   "execution_count": 4,
   "metadata": {},
   "outputs": [],
   "source": [
    "from sklearn.linear_model import LogisticRegression"
   ]
  },
  {
   "cell_type": "code",
   "execution_count": 5,
   "metadata": {},
   "outputs": [],
   "source": [
    "#setting up x and y data\n",
    "\n",
    "x=train_df.drop(['label','pickup_time','drop_time'],axis=1)\n",
    "\n",
    "y=train_df['label']\n",
    "\n",
    "x_train,x_test,y_train,y_test=train_test_split(x,y,test_size=0.3,random_state=42)"
   ]
  },
  {
   "cell_type": "code",
   "execution_count": 6,
   "metadata": {},
   "outputs": [],
   "source": [
    "\n",
    "lgs=LogisticRegression()\n",
    "lgs.fit(x_train,y_train)\n",
    "pred_lgs=lgs.predict(x_test)"
   ]
  },
  {
   "cell_type": "code",
   "execution_count": 7,
   "metadata": {
    "scrolled": true
   },
   "outputs": [
    {
     "name": "stdout",
     "output_type": "stream",
     "text": [
      "              precision    recall  f1-score   support\n",
      "\n",
      "           0       0.00      0.00      0.00       457\n",
      "           1       0.91      1.00      0.95      4634\n",
      "\n",
      "    accuracy                           0.91      5091\n",
      "   macro avg       0.46      0.50      0.48      5091\n",
      "weighted avg       0.83      0.91      0.87      5091\n",
      "\n",
      "[[   0  457]\n",
      " [   0 4634]]\n",
      "0.9102337458259674\n"
     ]
    },
    {
     "name": "stderr",
     "output_type": "stream",
     "text": [
      "C:\\Users\\AzeemA\\Anaconda3\\lib\\site-packages\\sklearn\\metrics\\_classification.py:1221: UndefinedMetricWarning: Precision and F-score are ill-defined and being set to 0.0 in labels with no predicted samples. Use `zero_division` parameter to control this behavior.\n",
      "  _warn_prf(average, modifier, msg_start, len(result))\n"
     ]
    }
   ],
   "source": [
    "print(classification_report(y_test,pred_lgs))\n",
    "print(confusion_matrix(y_test,pred_lgs))\n",
    "print(accuracy_score(y_test,pred_lgs))\n"
   ]
  },
  {
   "cell_type": "code",
   "execution_count": 9,
   "metadata": {},
   "outputs": [],
   "source": [
    "main_Y=lgs.predict(main_test)\n",
    "\n",
    "test_df['prediction']=main_Y\n",
    "\n",
    "Output=test_df[['tripid','prediction']]\n",
    "\n",
    "Output\n",
    "\n",
    "Output.prediction.value_counts()\n",
    "\n",
    "Output.to_csv(r'C:\\Users\\AzeemA\\Desktop\\Azeem\\MSc\\Machine Learning\\Kaggle Assignment\\Outputs\\logistric.csv', index = False)"
   ]
  },
  {
   "cell_type": "code",
   "execution_count": 10,
   "metadata": {},
   "outputs": [],
   "source": [
    "#Logistic for fulldataset (Not using the train test split)\n",
    "\n",
    "lgs=LogisticRegression()\n",
    "lgs.fit(x,y)\n",
    "pred_lgs=lgs.predict(main_test)\n"
   ]
  },
  {
   "cell_type": "code",
   "execution_count": 11,
   "metadata": {},
   "outputs": [],
   "source": [
    "test_df['prediction']=pred_lgs\n",
    "\n",
    "Output=test_df[['tripid','prediction']]\n",
    "\n",
    "Output.to_csv(r'C:\\Users\\AzeemA\\Desktop\\Azeem\\MSc\\Machine Learning\\Kaggle Assignment\\Outputs\\LogisticFull.csv', index = False)"
   ]
  },
  {
   "cell_type": "markdown",
   "metadata": {},
   "source": [
    "# Balancing the imbalanced labels through SMOTE"
   ]
  },
  {
   "cell_type": "code",
   "execution_count": 13,
   "metadata": {},
   "outputs": [
    {
     "data": {
      "text/plain": [
       "1    15442\n",
       "0     1526\n",
       "Name: label, dtype: int64"
      ]
     },
     "execution_count": 13,
     "metadata": {},
     "output_type": "execute_result"
    }
   ],
   "source": [
    "train_df['label'].value_counts()"
   ]
  },
  {
   "cell_type": "code",
   "execution_count": 30,
   "metadata": {},
   "outputs": [
    {
     "data": {
      "text/html": [
       "<div>\n",
       "<style scoped>\n",
       "    .dataframe tbody tr th:only-of-type {\n",
       "        vertical-align: middle;\n",
       "    }\n",
       "\n",
       "    .dataframe tbody tr th {\n",
       "        vertical-align: top;\n",
       "    }\n",
       "\n",
       "    .dataframe thead th {\n",
       "        text-align: right;\n",
       "    }\n",
       "</style>\n",
       "<table border=\"1\" class=\"dataframe\">\n",
       "  <thead>\n",
       "    <tr style=\"text-align: right;\">\n",
       "      <th></th>\n",
       "      <th>tripid</th>\n",
       "      <th>additional_fare</th>\n",
       "      <th>duration</th>\n",
       "      <th>meter_waiting</th>\n",
       "      <th>meter_waiting_fare</th>\n",
       "      <th>meter_waiting_till_pickup</th>\n",
       "      <th>pick_lat</th>\n",
       "      <th>pick_lon</th>\n",
       "      <th>drop_lat</th>\n",
       "      <th>drop_lon</th>\n",
       "      <th>fare</th>\n",
       "    </tr>\n",
       "    <tr>\n",
       "      <th>label</th>\n",
       "      <th></th>\n",
       "      <th></th>\n",
       "      <th></th>\n",
       "      <th></th>\n",
       "      <th></th>\n",
       "      <th></th>\n",
       "      <th></th>\n",
       "      <th></th>\n",
       "      <th></th>\n",
       "      <th></th>\n",
       "      <th></th>\n",
       "    </tr>\n",
       "  </thead>\n",
       "  <tbody>\n",
       "    <tr>\n",
       "      <th>0</th>\n",
       "      <td>1.998276e+08</td>\n",
       "      <td>26.644725</td>\n",
       "      <td>4625.986894</td>\n",
       "      <td>3383.534731</td>\n",
       "      <td>185.202069</td>\n",
       "      <td>162.482307</td>\n",
       "      <td>6.983739</td>\n",
       "      <td>80.027471</td>\n",
       "      <td>6.982349</td>\n",
       "      <td>80.031867</td>\n",
       "      <td>667.299417</td>\n",
       "    </tr>\n",
       "    <tr>\n",
       "      <th>1</th>\n",
       "      <td>2.016318e+08</td>\n",
       "      <td>12.444340</td>\n",
       "      <td>1413.967232</td>\n",
       "      <td>356.655679</td>\n",
       "      <td>16.909938</td>\n",
       "      <td>107.549152</td>\n",
       "      <td>6.963324</td>\n",
       "      <td>79.995108</td>\n",
       "      <td>6.966887</td>\n",
       "      <td>79.993673</td>\n",
       "      <td>277.611712</td>\n",
       "    </tr>\n",
       "  </tbody>\n",
       "</table>\n",
       "</div>"
      ],
      "text/plain": [
       "             tripid  additional_fare     duration  meter_waiting  \\\n",
       "label                                                              \n",
       "0      1.998276e+08        26.644725  4625.986894    3383.534731   \n",
       "1      2.016318e+08        12.444340  1413.967232     356.655679   \n",
       "\n",
       "       meter_waiting_fare  meter_waiting_till_pickup  pick_lat   pick_lon  \\\n",
       "label                                                                       \n",
       "0              185.202069                 162.482307  6.983739  80.027471   \n",
       "1               16.909938                 107.549152  6.963324  79.995108   \n",
       "\n",
       "       drop_lat   drop_lon        fare  \n",
       "label                                   \n",
       "0      6.982349  80.031867  667.299417  \n",
       "1      6.966887  79.993673  277.611712  "
      ]
     },
     "execution_count": 30,
     "metadata": {},
     "output_type": "execute_result"
    }
   ],
   "source": [
    "train_df.groupby('label').mean()"
   ]
  },
  {
   "cell_type": "code",
   "execution_count": 35,
   "metadata": {},
   "outputs": [
    {
     "data": {
      "text/plain": [
       "0.9100660066006601"
      ]
     },
     "execution_count": 35,
     "metadata": {},
     "output_type": "execute_result"
    }
   ],
   "source": [
    "#perctange \n",
    "\n",
    "train_df['label'][train_df['label']==1].count()/train_df['label'].count()"
   ]
  },
  {
   "cell_type": "code",
   "execution_count": 5,
   "metadata": {},
   "outputs": [],
   "source": [
    "from imblearn.over_sampling import SMOTE"
   ]
  },
  {
   "cell_type": "code",
   "execution_count": 41,
   "metadata": {},
   "outputs": [],
   "source": [
    "sm = SMOTE(random_state = 2) "
   ]
  },
  {
   "cell_type": "code",
   "execution_count": 42,
   "metadata": {},
   "outputs": [],
   "source": [
    "X_train_res, y_train_res = sm.fit_sample(x_train, y_train.ravel())"
   ]
  },
  {
   "cell_type": "code",
   "execution_count": 28,
   "metadata": {},
   "outputs": [
    {
     "data": {
      "text/plain": [
       "'10808'"
      ]
     },
     "execution_count": 28,
     "metadata": {},
     "output_type": "execute_result"
    }
   ],
   "source": [
    "format(sum(y_train_res == 0))"
   ]
  },
  {
   "cell_type": "code",
   "execution_count": null,
   "metadata": {},
   "outputs": [],
   "source": []
  },
  {
   "cell_type": "code",
   "execution_count": 29,
   "metadata": {},
   "outputs": [],
   "source": [
    "#applying Logist Regression for SMOTE data\n",
    "\n",
    "lgs1=LogisticRegression()\n",
    "lgs1.fit(X_train_res,y_train_res)\n",
    "pred_lgs1=lgs1.predict(x_test)"
   ]
  },
  {
   "cell_type": "code",
   "execution_count": 25,
   "metadata": {},
   "outputs": [
    {
     "name": "stdout",
     "output_type": "stream",
     "text": [
      "              precision    recall  f1-score   support\n",
      "\n",
      "           0       0.00      0.00      0.00       457\n",
      "           1       0.91      1.00      0.95      4634\n",
      "\n",
      "    accuracy                           0.91      5091\n",
      "   macro avg       0.46      0.50      0.48      5091\n",
      "weighted avg       0.83      0.91      0.87      5091\n",
      "\n",
      "[[   0  457]\n",
      " [   0 4634]]\n",
      "0.9102337458259674\n"
     ]
    },
    {
     "name": "stderr",
     "output_type": "stream",
     "text": [
      "C:\\Users\\AzeemA\\Anaconda3\\lib\\site-packages\\sklearn\\metrics\\_classification.py:1221: UndefinedMetricWarning: Precision and F-score are ill-defined and being set to 0.0 in labels with no predicted samples. Use `zero_division` parameter to control this behavior.\n",
      "  _warn_prf(average, modifier, msg_start, len(result))\n"
     ]
    }
   ],
   "source": [
    "print(classification_report(y_test,pred_lgs1))\n",
    "print(confusion_matrix(y_test,pred_lgs1))\n",
    "print(accuracy_score(y_test,pred_lgs1))\n"
   ]
  },
  {
   "cell_type": "code",
   "execution_count": 30,
   "metadata": {},
   "outputs": [],
   "source": [
    "#applying Logist Regression for SMOTE data\n",
    "\n",
    "rfc=RandomForestClassifier(n_estimators=200)\n",
    "rfc.fit(X_train_res,y_train_res)\n",
    "pred_rfc=rfc.predict(x_test)"
   ]
  },
  {
   "cell_type": "code",
   "execution_count": 31,
   "metadata": {},
   "outputs": [
    {
     "name": "stdout",
     "output_type": "stream",
     "text": [
      "              precision    recall  f1-score   support\n",
      "\n",
      "           0       0.51      0.61      0.56       457\n",
      "           1       0.96      0.94      0.95      4634\n",
      "\n",
      "    accuracy                           0.91      5091\n",
      "   macro avg       0.73      0.78      0.75      5091\n",
      "weighted avg       0.92      0.91      0.92      5091\n",
      "\n",
      "[[ 281  176]\n",
      " [ 272 4362]]\n",
      "0.9120015714005107\n"
     ]
    }
   ],
   "source": [
    "print(classification_report(y_test,pred_rfc))\n",
    "print(confusion_matrix(y_test,pred_rfc))\n",
    "print(accuracy_score(y_test,pred_rfc))"
   ]
  },
  {
   "cell_type": "code",
   "execution_count": 36,
   "metadata": {},
   "outputs": [
    {
     "name": "stdout",
     "output_type": "stream",
     "text": [
      "1    7884\n",
      "0     692\n",
      "Name: prediction, dtype: int64\n"
     ]
    }
   ],
   "source": [
    "main_Y=rfc.predict(main_test)\n",
    "\n",
    "test_df['prediction']=main_Y\n",
    "\n",
    "Output=test_df[['tripid','prediction']]\n",
    "\n",
    "Output\n",
    "\n",
    "print(Output.prediction.value_counts())\n",
    "\n",
    "Output.to_csv(r'C:\\Users\\AzeemA\\Desktop\\Azeem\\MSc\\Machine Learning\\Kaggle Assignment\\Outputs\\SmoteRF.csv', index = False)"
   ]
  },
  {
   "cell_type": "code",
   "execution_count": 46,
   "metadata": {},
   "outputs": [],
   "source": [
    "sm1 = SMOTE(random_state = 2) \n",
    "x_res, y_res = sm1.fit_sample(x, y.ravel())"
   ]
  },
  {
   "cell_type": "code",
   "execution_count": 47,
   "metadata": {},
   "outputs": [
    {
     "data": {
      "text/plain": [
       "RandomForestClassifier(n_estimators=200)"
      ]
     },
     "execution_count": 47,
     "metadata": {},
     "output_type": "execute_result"
    }
   ],
   "source": [
    "#RandomForest for fulldataset (Not using the train test split)\n",
    "\n",
    "rfc=RandomForestClassifier(n_estimators=200)\n",
    "rfc.fit(x_res,y_res)"
   ]
  },
  {
   "cell_type": "code",
   "execution_count": 48,
   "metadata": {},
   "outputs": [
    {
     "name": "stdout",
     "output_type": "stream",
     "text": [
      "1    7896\n",
      "0     680\n",
      "Name: prediction, dtype: int64\n"
     ]
    }
   ],
   "source": [
    "main_Y=rfc.predict(main_test)\n",
    "\n",
    "test_df['prediction']=main_Y\n",
    "\n",
    "Output=test_df[['tripid','prediction']]\n",
    "\n",
    "Output\n",
    "\n",
    "print(Output.prediction.value_counts())\n",
    "\n",
    "Output.to_csv(r'C:\\Users\\AzeemA\\Desktop\\Azeem\\MSc\\Machine Learning\\Kaggle Assignment\\Outputs\\SmoteRFFULL.csv', index = False)"
   ]
  },
  {
   "cell_type": "code",
   "execution_count": null,
   "metadata": {},
   "outputs": [],
   "source": []
  }
 ],
 "metadata": {
  "kernelspec": {
   "display_name": "Python 3",
   "language": "python",
   "name": "python3"
  },
  "language_info": {
   "codemirror_mode": {
    "name": "ipython",
    "version": 3
   },
   "file_extension": ".py",
   "mimetype": "text/x-python",
   "name": "python",
   "nbconvert_exporter": "python",
   "pygments_lexer": "ipython3",
   "version": "3.7.6"
  }
 },
 "nbformat": 4,
 "nbformat_minor": 4
}
